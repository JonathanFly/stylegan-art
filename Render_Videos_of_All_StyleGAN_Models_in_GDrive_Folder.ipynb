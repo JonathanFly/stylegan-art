{
  "nbformat": 4,
  "nbformat_minor": 0,
  "metadata": {
    "colab": {
      "name": "Render Videos of All StyleGAN Models in GDrive Folder",
      "version": "0.3.2",
      "provenance": [],
      "private_outputs": true,
      "collapsed_sections": [],
      "include_colab_link": true
    },
    "kernelspec": {
      "name": "python3",
      "display_name": "Python 3"
    },
    "accelerator": "GPU"
  },
  "cells": [
    {
      "cell_type": "markdown",
      "metadata": {
        "id": "view-in-github",
        "colab_type": "text"
      },
      "source": [
        "<a href=\"https://colab.research.google.com/github/JonathanFly/stylegan-art/blob/master/Render_Videos_of_All_StyleGAN_Models_in_GDrive_Folder.ipynb\" target=\"_parent\"><img src=\"https://colab.research.google.com/assets/colab-badge.svg\" alt=\"Open In Colab\"/></a>"
      ]
    },
    {
      "cell_type": "markdown",
      "metadata": {
        "id": "eZh_nbVi0xiT",
        "colab_type": "text"
      },
      "source": [
        "**What is This**\n",
        "\n",
        "Do you have StyleGAN models scattered all over your personal computer or Google Drive?  Do you wonder if you might have a cool checkpoint or just what the heck these models even are?  \n",
        "\n",
        "This is a stripped down version of [@roadrunning01](https://github.com/ak9250/stylegan-art)'s StyleGAN Colab notebook that does one thing: it takes every StyleGAN model in Google Drive folder and renders out a video interpolation of each, then puts these .mp4 files in that sub folder of that Google Drive folder.\n",
        "\n",
        "**Setup**\n",
        "\n",
        "1) Make sure GPU is enabled, go to edit->notebook settings->Hardware Accelerator GPU\n",
        "\n",
        "2) Make a copy to your google drive, click on copy to drive in panel.\n",
        "\n",
        "3) Put al the StyleGAN .pkl models you want to render in a single directory on your Google Drive.\n",
        "\n",
        "3) Edit the cell with **gdrive_content_path** with the path to your StyleGAN models on your google drive.\n",
        "\n",
        "4) Run the notebook, and be sure to wait until you get the prompt to mount your Google Drive and copy your key into the field that pops up.\n",
        "\n",
        "**What happens when Google inevitably and unpredictably yanks the plug in the middle of this notebook running?**\n",
        "\n",
        "Just run the notebook again. Each video is copied to your Google drive immediately after rendering, and during the render step it will skip that model if it already has an .mp4 of the same name in the output folder. So just keep running the notebook until it finishes the directory.\n",
        "\n",
        "\n"
      ]
    },
    {
      "cell_type": "code",
      "metadata": {
        "id": "ygUNRDYnYZ6-",
        "colab_type": "code",
        "colab": {}
      },
      "source": [
        "gdrive_content_path = '/content/gdrive/My Drive/StyleGAN_Models/'"
      ],
      "execution_count": 0,
      "outputs": []
    },
    {
      "cell_type": "code",
      "metadata": {
        "id": "BdwoT-d2LqG7",
        "colab_type": "code",
        "colab": {}
      },
      "source": [
        "gdrive_content_filter = '*.pkl'"
      ],
      "execution_count": 0,
      "outputs": []
    },
    {
      "cell_type": "code",
      "metadata": {
        "id": "KX4YhpkWKtud",
        "colab_type": "code",
        "colab": {}
      },
      "source": [
        "gdrive_output_path = gdrive_content_path + '/video_interpolations/'"
      ],
      "execution_count": 0,
      "outputs": []
    },
    {
      "cell_type": "code",
      "metadata": {
        "id": "htPXhPYPUS23",
        "colab_type": "code",
        "colab": {}
      },
      "source": [
        "from google.colab import drive\n",
        "drive.mount('/content/gdrive')"
      ],
      "execution_count": 0,
      "outputs": []
    },
    {
      "cell_type": "code",
      "metadata": {
        "id": "gCS6klyzUq7v",
        "colab_type": "code",
        "colab": {}
      },
      "source": [
        "!mkdir /content/StyleGAN_local_models"
      ],
      "execution_count": 0,
      "outputs": []
    },
    {
      "cell_type": "code",
      "metadata": {
        "id": "Uc2owhykLvE0",
        "colab_type": "code",
        "colab": {}
      },
      "source": [
        "!mkdir \"{gdrive_output_path}\""
      ],
      "execution_count": 0,
      "outputs": []
    },
    {
      "cell_type": "code",
      "metadata": {
        "id": "KFNtc3cQVOK4",
        "colab_type": "code",
        "colab": {}
      },
      "source": [
        "#This could check if the .mp4 files already exist in the output path before copying to save time when resuming...\n",
        "%cp -r \"{gdrive_content_path}\"{gdrive_content_filter} /content/StyleGAN_local_models/"
      ],
      "execution_count": 0,
      "outputs": []
    },
    {
      "cell_type": "code",
      "metadata": {
        "id": "VpuHnDC29LyO",
        "colab_type": "code",
        "colab": {}
      },
      "source": [
        "!git clone https://github.com/NVlabs/stylegan.git"
      ],
      "execution_count": 0,
      "outputs": []
    },
    {
      "cell_type": "code",
      "metadata": {
        "id": "5-myoXv_9yqA",
        "colab_type": "code",
        "colab": {}
      },
      "source": [
        "cd stylegan/"
      ],
      "execution_count": 0,
      "outputs": []
    },
    {
      "cell_type": "code",
      "metadata": {
        "id": "MTaMnUWfuMtJ",
        "colab_type": "code",
        "colab": {}
      },
      "source": [
        "import os\n",
        "import pickle\n",
        "import numpy as np\n",
        "import math\n",
        "import random\n",
        "import matplotlib.pyplot as plt\n",
        "import PIL.Image\n",
        "import dnnlib\n",
        "import dnnlib.tflib as tflib\n",
        "import config\n",
        "import moviepy.editor as mpy\n",
        "from tqdm import tqdm_notebook as tqdm\n",
        "tflib.init_tf()"
      ],
      "execution_count": 0,
      "outputs": []
    },
    {
      "cell_type": "code",
      "metadata": {
        "id": "CAlhVax26eqM",
        "colab_type": "code",
        "colab": {}
      },
      "source": [
        "truncation = 0.7\n",
        "\n",
        "\n",
        "def bookmark(latents, new_faves):\n",
        "    for f in new_faves:\n",
        "        faves.append(latents[f])\n",
        "\n",
        "def show_faves(faves):\n",
        "    latents = np.array(faves)\n",
        "    labels = np.zeros([latents.shape[0]] + Gs.input_shapes[1][1:])\n",
        "    n = len(faves)\n",
        "    nr, nc = math.ceil(n / 6), 6\n",
        "    for r in range(nr):\n",
        "        images = Gs.run(latents[6*r:min(n-1, 6*(r+1))], None, truncation_psi=truncation, randomize_noise=False, output_transform=fmt)\n",
        "        img1 = np.concatenate([img for img in images], axis=1)\n",
        "        plt.figure(figsize=(24,4))\n",
        "        plt.imshow(img1)\n",
        "        \n",
        "def random_sample(num_images, scale):\n",
        "    latents = np.random.RandomState(int(1000*random.random())).randn(num_images, *Gs.input_shapes[0][1:])\n",
        "    labels = np.zeros([latents.shape[0]] + Gs.input_shapes[1][1:])\n",
        "    images = Gs.run(latents, None, truncation_psi=truncation, randomize_noise=False, output_transform=fmt)\n",
        "    images_ct = np.concatenate([img for img in images], axis=1)\n",
        "    plt.figure(figsize=(scale*num_images, scale))\n",
        "    plt.imshow(images_ct)\n",
        "    return images, latents\n",
        "\n",
        "def get_latent_interpolation(endpoints, num_frames_per, mode, shuffle):\n",
        "    if shuffle:\n",
        "        random.shuffle(endpoints)\n",
        "    num_endpoints, dim = len(endpoints), len(endpoints[0])\n",
        "    num_frames = num_frames_per * num_endpoints\n",
        "    endpoints = np.array(endpoints)\n",
        "    latents = np.zeros((num_frames, dim))\n",
        "    for e in range(num_endpoints):\n",
        "        e1, e2 = e, (e+1)%num_endpoints\n",
        "        for t in range(num_frames_per):\n",
        "            frame = e * num_frames_per + t\n",
        "            r = 0.5 - 0.5 * np.cos(np.pi*t/(num_frames_per-1)) if mode == 'ease' else float(t) / num_frames_per\n",
        "            latents[frame, :] = (1.0-r) * endpoints[e1,:] + r * endpoints[e2,:]\n",
        "    return latents\n",
        "\n",
        "def get_latent_interpolation_bspline(endpoints, nf, k, s, shuffle):\n",
        "    if shuffle:\n",
        "        random.shuffle(endpoints)\n",
        "    x = np.array(endpoints)\n",
        "    x = np.append(x, x[0,:].reshape(1, x.shape[1]), axis=0)\n",
        "    nd = x.shape[1]\n",
        "    latents = np.zeros((nd, nf))\n",
        "    nss = list(range(1, 10)) + [10]*(nd-19) + list(range(10,0,-1))\n",
        "    for i in tqdm(range(nd-9)):\n",
        "        idx = list(range(i,i+10))\n",
        "        tck, u = interpolate.splprep([x[:,j] for j in range(i,i+10)], k=k, s=s)\n",
        "        out = interpolate.splev(np.linspace(0, 1, num=nf, endpoint=True), tck)\n",
        "        latents[i:i+10,:] += np.array(out)\n",
        "    latents = latents / np.array(nss).reshape((512,1))\n",
        "    return latents.T\n",
        "\n",
        "\n",
        "def generate_images(latents, labels):\n",
        "    batch_size = 8\n",
        "    num_frames = latents.shape[0]\n",
        "    num_batches = int(np.ceil(num_frames/batch_size))\n",
        "    images = []\n",
        "    for b in tqdm(range(num_batches)):\n",
        "        new_images = Gs.run(latents[b*batch_size:min((b+1)*batch_size, num_frames-1), :], None, truncation_psi=truncation, randomize_noise=False, output_transform=fmt)\n",
        "        for img in new_images:\n",
        "            images.append(img)\n",
        "    return images\n",
        "\n",
        "def make_movie(images, out_dir, out_name):\n",
        "    temp_dir = 'frames%06d'%int(1000000*random.random())\n",
        "    os.system('mkdir %s'%temp_dir)\n",
        "    for idx in tqdm(range(len(images))):\n",
        "        PIL.Image.fromarray(images[idx], 'RGB').save('%s/frame%05d.png' % (temp_dir, idx))\n",
        "    cmd = 'ffmpeg -loglevel error -i %s/frame%%05d.png -c:v libx264 -pix_fmt yuv420p \"%s/%s.mp4\"' % (temp_dir, out_dir, out_name)\n",
        "    print(cmd)\n",
        "    os.system(cmd)\n",
        "    os.system('rm -rf %s'%temp_dir)\n",
        "    \n",
        "def random_sample(num_images, scale):\n",
        "    latents = np.random.RandomState(int(1000*random.random())).randn(num_images, *Gs.input_shapes[0][1:])\n",
        "    labels = np.zeros([latents.shape[0]] + Gs.input_shapes[1][1:])\n",
        "    images = Gs.run(latents, None, truncation_psi=truncation, randomize_noise=False, output_transform=fmt)\n",
        "    images_ct = np.concatenate([img for img in images], axis=1)\n",
        "    plt.figure(figsize=(scale*num_images, scale))\n",
        "    #plt.imshow(images_ct)\n",
        "    plt.axis('off')\n",
        "    #plt.savefig('download.png')\n",
        "    return images, latents"
      ],
      "execution_count": 0,
      "outputs": []
    },
    {
      "cell_type": "code",
      "metadata": {
        "id": "7ajgYVtV6hns",
        "colab_type": "code",
        "colab": {}
      },
      "source": [
        "import shutil\n",
        "import os.path\n",
        "\n",
        "path, dirs, files = next(os.walk('/content/StyleGAN_local_models/'))\n",
        "total_files = len(files)\n",
        "\n",
        "print(\"Files In Directory: \" + str(total_files))\n",
        "\n",
        "file_count = 0\n",
        "\n",
        "for filename in os.listdir('/content/StyleGAN_local_models/'):\n",
        "    file_count = file_count + 1\n",
        "    print(\"File: \" + str(file_count) + \" of \" + str(total_files) + \" (\" + filename + \")\")\n",
        "    if filename.endswith(\"pkl\"):\n",
        "      \n",
        "      output_movie_filename = filename.replace(' ','_'); \n",
        "      \n",
        "      if os.path.exists(gdrive_output_path + output_movie_filename + 'easemovie' + '.mp4') == True: \n",
        "        print(\"File: \" + output_movie_filename + 'easemovie' + '.mp4' + \" already exists. Skipping.\")\n",
        "        continue\n",
        "        \n",
        "      model = '/content/StyleGAN_local_models/' + filename\n",
        "      with open(model, 'rb') as f:\n",
        "        _G, _D, Gs = pickle.load(f)\n",
        "        \n",
        "      fmt = dict(func=tflib.convert_images_to_uint8, nchw_to_nhwc=True)\n",
        "      synthesis_kwargs = dict(output_transform=dict(func=tflib.convert_images_to_uint8, nchw_to_nhwc=True), minibatch_size=8)\n",
        "         \n",
        "      #images, latents = random_sample(40, scale=8)\n",
        "      #latents = get_latent_interpolation(latents, 45, 'linear', False)\n",
        "      #labels = np.zeros([latents.shape[0]] + Gs.input_shapes[1][1:])\n",
        "      #images = generate_images(latents, labels)    \n",
        "      #make_movie(images, '/content/stylegan',  output_movie_filename + 'linearmovie')\n",
        "      #shutil.copyfile(output_movie_filename + 'linearmovie' + '.mp4', gdrive_output_path + output_movie_filename + 'linearmovie' + '.mp4') \n",
        " \n",
        "      images, latents = random_sample(40, scale=8)\n",
        "      latents = get_latent_interpolation(latents, 45, 'ease', False)\n",
        "      labels = np.zeros([latents.shape[0]] + Gs.input_shapes[1][1:])\n",
        "      images = generate_images(latents, labels)    \n",
        "      make_movie(images, '/content/stylegan', output_movie_filename + 'easemovie')\n",
        "      shutil.copyfile(output_movie_filename + 'easemovie' + '.mp4', gdrive_output_path + output_movie_filename + 'easemovie' + '.mp4') \n",
        "  "
      ],
      "execution_count": 0,
      "outputs": []
    },
    {
      "cell_type": "code",
      "metadata": {
        "id": "VOvIUU4o2T9J",
        "colab_type": "code",
        "colab": {}
      },
      "source": [
        "print(\"Finished: \" + str(total_files) + \" files processed\")"
      ],
      "execution_count": 0,
      "outputs": []
    }
  ]
}